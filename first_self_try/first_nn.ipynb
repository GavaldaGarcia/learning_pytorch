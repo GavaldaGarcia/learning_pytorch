{
 "cells": [
  {
   "cell_type": "code",
   "execution_count": 1,
   "metadata": {},
   "outputs": [],
   "source": [
    "import torch\n",
    "import torch.nn as nn\n",
    "import torch.nn.functional as F\n",
    "import pandas\n",
    "import matplotlib.pyplot as plt\n",
    "from torch.utils.data import Dataset, DataLoader\n",
    "from torchvision import transforms, utils"
   ]
  },
  {
   "cell_type": "code",
   "execution_count": 2,
   "metadata": {},
   "outputs": [
    {
     "name": "stdout",
     "output_type": "stream",
     "text": [
      "Net(\n",
      "  (conv1): Conv2d(1, 6, kernel_size=(3, 3), stride=(1, 1))\n",
      "  (conv2): Conv2d(6, 36, kernel_size=(3, 3), stride=(1, 1))\n",
      "  (linear1): Linear(in_features=1296, out_features=180, bias=True)\n",
      "  (linear2): Linear(in_features=180, out_features=60, bias=True)\n",
      "  (linear3): Linear(in_features=60, out_features=20, bias=True)\n",
      "  (linear4): Linear(in_features=20, out_features=5, bias=True)\n",
      ")\n"
     ]
    }
   ],
   "source": [
    "class Net(nn.Module):\n",
    "    def __init__(self):\n",
    "        super().__init__()\n",
    "        self.conv1 = nn.Conv2d(1, 6, 3)\n",
    "        self.conv2 = nn.Conv2d(6, 36, 3)\n",
    "        self.linear1 = nn.Linear(36 * 6 * 6, 180)\n",
    "        self.linear2 = nn.Linear(180, 60)\n",
    "        self.linear3 = nn.Linear(60, 20)\n",
    "        self.linear4 = nn.Linear(20, 5)\n",
    "        \n",
    "    def forward(self, x):\n",
    "        x = F.max_pool2d(F.relu(self.conv1(x)), 2)\n",
    "        x = F.max_pool2d(F.relu(self.conv2(x)), 2)\n",
    "        x = x.view(-1, self.num_flat_features(x))\n",
    "        x = F.relu(self.linear1(x))\n",
    "        x = F.relu(self.linear2(x))\n",
    "        x = F.relu(self.linear3(x))\n",
    "        x = self.linear4(x)\n",
    "        return x\n",
    "        \n",
    "    def num_flat_features(self, x):\n",
    "        size = x.size()[1:]  # all dimensions except the batch dimension\n",
    "        num_features = 1\n",
    "        for s in size:\n",
    "            num_features *= s\n",
    "        return num_features\n",
    "    \n",
    "net = Net()\n",
    "print(net)"
   ]
  },
  {
   "cell_type": "code",
   "execution_count": 3,
   "metadata": {},
   "outputs": [],
   "source": [
    "params = list(net.parameters())"
   ]
  },
  {
   "cell_type": "code",
   "execution_count": 4,
   "metadata": {},
   "outputs": [
    {
     "data": {
      "text/plain": [
       "12"
      ]
     },
     "execution_count": 4,
     "metadata": {},
     "output_type": "execute_result"
    }
   ],
   "source": [
    "len(params)"
   ]
  },
  {
   "cell_type": "markdown",
   "metadata": {},
   "source": [
    "params[even_number] is the weights of the layer. params[uneven_number] is the bias of the nodes"
   ]
  },
  {
   "cell_type": "code",
   "execution_count": 5,
   "metadata": {},
   "outputs": [
    {
     "name": "stdout",
     "output_type": "stream",
     "text": [
      "('conv1.bias', Parameter containing:\n",
      "tensor([-0.2295, -0.2892,  0.2096, -0.0476, -0.1930, -0.1476],\n",
      "       requires_grad=True))\n"
     ]
    }
   ],
   "source": [
    "print(list(net.named_parameters())[1])"
   ]
  },
  {
   "cell_type": "code",
   "execution_count": 6,
   "metadata": {},
   "outputs": [],
   "source": [
    "input = torch.randn(10, 1, 32, 32)  "
   ]
  },
  {
   "cell_type": "code",
   "execution_count": 7,
   "metadata": {},
   "outputs": [
    {
     "data": {
      "text/plain": [
       "tensor([[[[ 0.9484,  1.2714,  0.3038,  ...,  0.6057, -0.9730,  0.8446],\n",
       "          [ 0.3191,  0.2286,  1.0890,  ..., -1.2288, -0.0701, -0.0845],\n",
       "          [-1.3617,  0.0197,  0.6869,  ...,  0.5134,  2.3805,  0.5640],\n",
       "          ...,\n",
       "          [ 0.0270, -1.6710,  0.4972,  ...,  0.6012, -0.4015, -0.0582],\n",
       "          [ 0.4504,  1.6333,  0.7317,  ...,  0.8712,  0.1827, -1.3928],\n",
       "          [-0.4876,  0.1918, -1.6700,  ..., -0.6025, -0.2191, -1.3643]]],\n",
       "\n",
       "\n",
       "        [[[-0.3080,  0.3503, -0.0447,  ..., -0.4871,  0.7297, -0.7390],\n",
       "          [ 1.0393,  0.8408,  0.5737,  ...,  1.8424,  0.9422, -0.7513],\n",
       "          [-0.0992,  1.0427, -0.3004,  ..., -0.7407,  1.6079, -1.0683],\n",
       "          ...,\n",
       "          [-0.2116, -0.4448,  0.6381,  ..., -1.3397, -0.3431,  0.3153],\n",
       "          [-0.4395, -1.2858,  1.1747,  ...,  0.9426,  0.9584, -0.0771],\n",
       "          [-1.4260, -0.2151, -1.2433,  ...,  1.7756, -0.0788,  0.2043]]],\n",
       "\n",
       "\n",
       "        [[[-0.3911, -0.3967,  0.1795,  ..., -0.9704, -0.8160, -0.1187],\n",
       "          [ 0.8474, -0.5126, -1.1070,  ...,  1.3031, -0.1346, -0.6289],\n",
       "          [-2.0155,  1.4669,  0.6740,  ..., -0.2047,  1.0082, -0.5806],\n",
       "          ...,\n",
       "          [-0.1071,  0.2524, -0.0092,  ..., -1.3912,  0.0454, -0.0913],\n",
       "          [-2.0011,  0.6541,  1.7380,  ...,  0.4386, -0.8057, -0.3326],\n",
       "          [-2.7978,  1.1175, -1.3775,  ..., -0.2223,  0.5832, -0.2242]]],\n",
       "\n",
       "\n",
       "        ...,\n",
       "\n",
       "\n",
       "        [[[-0.3718, -0.0879, -1.9261,  ..., -0.1718, -0.3156, -0.4736],\n",
       "          [ 0.9660,  1.3470, -0.2493,  ...,  0.2217, -0.8063, -0.8822],\n",
       "          [ 2.0668, -0.6848, -2.4503,  ..., -1.2105, -0.2448, -1.5590],\n",
       "          ...,\n",
       "          [-0.1198, -1.7802, -1.2516,  ...,  0.7728, -1.4379,  1.6625],\n",
       "          [-0.8658, -0.5257, -1.7441,  ...,  0.3466, -0.2062,  2.0802],\n",
       "          [-1.7427, -2.0640,  1.0009,  ..., -0.0370, -0.3929,  1.0547]]],\n",
       "\n",
       "\n",
       "        [[[ 0.1660, -0.6929,  0.5831,  ..., -0.5907, -1.5167,  1.5307],\n",
       "          [ 0.5002,  1.3927, -0.5010,  ...,  1.8716, -0.1574, -0.0125],\n",
       "          [-0.6678,  0.3274,  0.9164,  ..., -1.1283, -0.5754, -0.1701],\n",
       "          ...,\n",
       "          [ 1.5194,  0.0565,  0.3656,  ...,  1.2468,  0.2144,  0.4376],\n",
       "          [-1.7421, -0.3557, -0.7076,  ..., -2.0139, -0.1938,  0.3615],\n",
       "          [-0.2948, -1.8091,  1.3635,  ...,  0.4182,  0.8031,  2.0039]]],\n",
       "\n",
       "\n",
       "        [[[-0.9668, -0.6626, -0.1633,  ...,  0.9814, -0.9436, -0.0370],\n",
       "          [ 0.4309,  0.3750, -0.1900,  ...,  0.3189,  1.1887,  0.0694],\n",
       "          [ 0.9133, -1.2166,  0.1003,  ..., -1.1244, -0.0784,  0.5546],\n",
       "          ...,\n",
       "          [-1.5502,  0.1423,  0.3297,  ...,  1.4401,  1.1077,  0.0249],\n",
       "          [-1.4283,  2.0173, -0.6455,  ..., -0.3102,  0.4865, -0.8363],\n",
       "          [ 0.0983,  0.2410, -0.8294,  ..., -0.1508, -0.9850,  0.7558]]]])"
      ]
     },
     "execution_count": 7,
     "metadata": {},
     "output_type": "execute_result"
    }
   ],
   "source": [
    "input"
   ]
  },
  {
   "cell_type": "code",
   "execution_count": 8,
   "metadata": {},
   "outputs": [],
   "source": [
    "out = net(input)"
   ]
  },
  {
   "cell_type": "code",
   "execution_count": 9,
   "metadata": {},
   "outputs": [
    {
     "data": {
      "text/plain": [
       "tensor([[-0.1040,  0.0591,  0.2196,  0.0882,  0.1894],\n",
       "        [-0.1116,  0.0685,  0.2290,  0.0738,  0.1919],\n",
       "        [-0.1099,  0.0604,  0.2152,  0.0805,  0.1872],\n",
       "        [-0.1043,  0.0705,  0.2138,  0.0909,  0.2002],\n",
       "        [-0.1014,  0.0644,  0.2252,  0.0791,  0.1959],\n",
       "        [-0.1056,  0.0627,  0.2186,  0.0832,  0.1917],\n",
       "        [-0.1042,  0.0541,  0.2133,  0.0912,  0.1964],\n",
       "        [-0.1145,  0.0630,  0.2317,  0.0787,  0.1951],\n",
       "        [-0.1103,  0.0618,  0.2275,  0.0677,  0.1871],\n",
       "        [-0.1265,  0.0650,  0.2301,  0.0748,  0.1912]],\n",
       "       grad_fn=<AddmmBackward>)"
      ]
     },
     "execution_count": 9,
     "metadata": {},
     "output_type": "execute_result"
    }
   ],
   "source": [
    "out"
   ]
  },
  {
   "cell_type": "markdown",
   "metadata": {},
   "source": [
    "Zero the gradient buffers of all parameters and backprops with random\n",
    "gradients:\n"
   ]
  },
  {
   "cell_type": "code",
   "execution_count": 10,
   "metadata": {},
   "outputs": [],
   "source": [
    "net.zero_grad()\n",
    "out.backward(torch.randn(10, 5))"
   ]
  },
  {
   "cell_type": "markdown",
   "metadata": {},
   "source": [
    "Loss function"
   ]
  },
  {
   "cell_type": "code",
   "execution_count": 11,
   "metadata": {},
   "outputs": [
    {
     "name": "stdout",
     "output_type": "stream",
     "text": [
      "tensor(1.0821, grad_fn=<MseLossBackward>)\n"
     ]
    }
   ],
   "source": [
    "output = net(input)\n",
    "target = torch.randn(10, 5)  # a dummy target, for example\n",
    "target = target.view(10, -1)  # make it the same shape as output\n",
    "criterion = nn.MSELoss()\n",
    "\n",
    "loss = criterion(output, target)\n",
    "print(loss)"
   ]
  },
  {
   "cell_type": "code",
   "execution_count": 12,
   "metadata": {},
   "outputs": [
    {
     "name": "stdout",
     "output_type": "stream",
     "text": [
      "<MseLossBackward object at 0x7faa23a97748>\n",
      "<AddmmBackward object at 0x7faa23a977b8>\n",
      "<AccumulateGrad object at 0x7faa23a97748>\n"
     ]
    }
   ],
   "source": [
    "print(loss.grad_fn)  # MSELoss\n",
    "print(loss.grad_fn.next_functions[0][0])  # Linear\n",
    "print(loss.grad_fn.next_functions[0][0].next_functions[0][0])  # ReLU"
   ]
  },
  {
   "cell_type": "markdown",
   "metadata": {},
   "source": [
    "# Backpropagation"
   ]
  },
  {
   "cell_type": "code",
   "execution_count": 13,
   "metadata": {},
   "outputs": [
    {
     "name": "stdout",
     "output_type": "stream",
     "text": [
      "conv1.bias.grad before backward\n",
      "tensor([0., 0., 0., 0., 0., 0.])\n",
      "linear4.bias.grad before backward\n",
      "tensor([0., 0., 0., 0., 0.])\n"
     ]
    }
   ],
   "source": [
    "net.zero_grad()     # zeroes the gradient buffers of all parameters\n",
    "\n",
    "print('conv1.bias.grad before backward')\n",
    "print(net.conv1.bias.grad)\n",
    "print('linear4.bias.grad before backward')\n",
    "print(net.linear4.bias.grad)"
   ]
  },
  {
   "cell_type": "code",
   "execution_count": 14,
   "metadata": {},
   "outputs": [
    {
     "name": "stdout",
     "output_type": "stream",
     "text": [
      "conv1.bias.grad after backward\n",
      "tensor([ 0.0011,  0.0004, -0.0008, -0.0006,  0.0005,  0.0015])\n",
      "linear4.bias.grad after backward\n",
      "tensor([-0.0761,  0.0947, -0.0743,  0.1861,  0.0237])\n"
     ]
    }
   ],
   "source": [
    "loss.backward(retain_graph=True)\n",
    "\n",
    "print('conv1.bias.grad after backward')\n",
    "print(net.conv1.bias.grad)\n",
    "print('linear4.bias.grad after backward')\n",
    "print(net.linear4.bias.grad)"
   ]
  },
  {
   "cell_type": "code",
   "execution_count": 15,
   "metadata": {},
   "outputs": [],
   "source": [
    "net.zero_grad()  \n",
    "# The gradient is cumulative. So this reseting it to zero is very important for recurrent nns. "
   ]
  },
  {
   "cell_type": "markdown",
   "metadata": {},
   "source": [
    "# Train on CIFAR10"
   ]
  },
  {
   "cell_type": "markdown",
   "metadata": {},
   "source": [
    "## Redefine nn"
   ]
  },
  {
   "cell_type": "code",
   "execution_count": 88,
   "metadata": {},
   "outputs": [
    {
     "name": "stdout",
     "output_type": "stream",
     "text": [
      "Net(\n",
      "  (conv1): Conv2d(3, 6, kernel_size=(3, 3), stride=(1, 1))\n",
      "  (conv2): Conv2d(6, 36, kernel_size=(3, 3), stride=(1, 1))\n",
      "  (linear1): Linear(in_features=1296, out_features=180, bias=True)\n",
      "  (linear2): Linear(in_features=180, out_features=60, bias=True)\n",
      "  (linear3): Linear(in_features=60, out_features=20, bias=True)\n",
      "  (linear4): Linear(in_features=20, out_features=10, bias=True)\n",
      ")\n"
     ]
    }
   ],
   "source": [
    "class Net(nn.Module):\n",
    "    def __init__(self):\n",
    "        super().__init__()\n",
    "        self.conv1 = nn.Conv2d(3, 6, 3)\n",
    "        self.conv2 = nn.Conv2d(6, 36, 3)\n",
    "        self.linear1 = nn.Linear(36 * 6 * 6, 180)\n",
    "        self.linear2 = nn.Linear(180, 60)\n",
    "        self.linear3 = nn.Linear(60, 20)\n",
    "        self.linear4 = nn.Linear(20, 10)\n",
    "        \n",
    "    def forward(self, x):\n",
    "        x = F.max_pool2d(F.relu(self.conv1(x)), 2)\n",
    "        x = F.max_pool2d(F.relu(self.conv2(x)), 2)\n",
    "        x = x.view(-1, self.num_flat_features(x))\n",
    "        x = F.relu(self.linear1(x))\n",
    "        x = F.relu(self.linear2(x))\n",
    "        x = F.relu(self.linear3(x))\n",
    "        x = self.linear4(x)\n",
    "        \n",
    "        return x\n",
    "        \n",
    "    def num_flat_features(self, x):\n",
    "        size = x.size()[1:]  # all dimensions except the batch dimension\n",
    "        num_features = 1\n",
    "        for s in size:\n",
    "            num_features *= s\n",
    "        return num_features\n",
    "    \n",
    "net = Net()\n",
    "print(net)"
   ]
  },
  {
   "cell_type": "code",
   "execution_count": 89,
   "metadata": {},
   "outputs": [],
   "source": [
    "params = list(net.parameters())"
   ]
  },
  {
   "cell_type": "code",
   "execution_count": 90,
   "metadata": {},
   "outputs": [],
   "source": [
    "import torchvision\n",
    "import torchvision.transforms as transforms"
   ]
  },
  {
   "cell_type": "code",
   "execution_count": 91,
   "metadata": {},
   "outputs": [],
   "source": [
    "transform = transforms.Compose(\n",
    "    [transforms.ToTensor(),\n",
    "     transforms.Normalize((0.5, 0.5, 0.5), (0.5, 0.5, 0.5))])\n",
    "\n",
    "trainset = torchvision.datasets.CIFAR10(root='../data', train=True,\n",
    "                                        download=False, transform=transform)\n",
    "trainloader = torch.utils.data.DataLoader(trainset, batch_size=4,\n",
    "                                          shuffle=True, num_workers=2)\n",
    "\n",
    "testset = torchvision.datasets.CIFAR10(root='../data', train=False,\n",
    "                                       download=False, transform=transform)\n",
    "testloader = torch.utils.data.DataLoader(testset, batch_size=4,\n",
    "                                         shuffle=False, num_workers=2)"
   ]
  },
  {
   "cell_type": "code",
   "execution_count": 92,
   "metadata": {},
   "outputs": [],
   "source": [
    "classes = ('plane', 'car', 'bird', 'cat',\n",
    "           'deer', 'dog', 'frog', 'horse', 'ship', 'truck')"
   ]
  },
  {
   "cell_type": "code",
   "execution_count": 93,
   "metadata": {},
   "outputs": [
    {
     "data": {
      "image/png": "[encoded data removed]",
      "text/plain": [
       "<Figure size 432x288 with 1 Axes>"
      ]
     },
     "metadata": {
      "needs_background": "light"
     },
     "output_type": "display_data"
    },
    {
     "name": "stdout",
     "output_type": "stream",
     "text": [
      "  cat  frog plane   car\n"
     ]
    }
   ],
   "source": [
    "import matplotlib.pyplot as plt\n",
    "import numpy as np\n",
    "\n",
    "# functions to show an image\n",
    "\n",
    "\n",
    "def imshow(img):\n",
    "    img = img / 2 + 0.5     # unnormalize\n",
    "    npimg = img.numpy()\n",
    "    plt.imshow(np.transpose(npimg, (1, 2, 0)))\n",
    "    plt.show()\n",
    "\n",
    "\n",
    "# get some random training images\n",
    "dataiter = iter(trainloader)\n",
    "images, labels = dataiter.next()\n",
    "\n",
    "# show images\n",
    "imshow(torchvision.utils.make_grid(images))\n",
    "# print labels\n",
    "print(' '.join('%5s' % classes[labels[j]] for j in range(4)))"
   ]
  },
  {
   "cell_type": "markdown",
   "metadata": {},
   "source": [
    "## Define loss function and optimizer"
   ]
  },
  {
   "cell_type": "code",
   "execution_count": 94,
   "metadata": {},
   "outputs": [],
   "source": [
    "import torch.optim as optim\n",
    "\n",
    "criterion = nn.CrossEntropyLoss()\n",
    "optimizer = optim.SGD(net.parameters(), lr=0.001, momentum=0.9)"
   ]
  },
  {
   "cell_type": "code",
   "execution_count": 95,
   "metadata": {},
   "outputs": [
    {
     "name": "stdout",
     "output_type": "stream",
     "text": [
      "[1,  2000] loss: 2.271\n",
      "[1,  4000] loss: 2.003\n",
      "[1,  6000] loss: 1.830\n",
      "[1,  8000] loss: 1.666\n",
      "[1, 10000] loss: 1.580\n",
      "[1, 12000] loss: 1.493\n",
      "[2,  2000] loss: 1.354\n",
      "[2,  4000] loss: 1.331\n",
      "[2,  6000] loss: 1.289\n",
      "[2,  8000] loss: 1.232\n",
      "[2, 10000] loss: 1.238\n",
      "[2, 12000] loss: 1.210\n",
      "[3,  2000] loss: 1.107\n",
      "[3,  4000] loss: 1.076\n",
      "[3,  6000] loss: 1.101\n",
      "[3,  8000] loss: 1.064\n",
      "[3, 10000] loss: 1.077\n",
      "[3, 12000] loss: 1.047\n",
      "[4,  2000] loss: 0.941\n",
      "[4,  4000] loss: 0.938\n",
      "[4,  6000] loss: 0.944\n",
      "[4,  8000] loss: 0.942\n",
      "[4, 10000] loss: 0.945\n",
      "[4, 12000] loss: 0.947\n",
      "[5,  2000] loss: 0.796\n",
      "[5,  4000] loss: 0.835\n",
      "[5,  6000] loss: 0.835\n",
      "[5,  8000] loss: 0.848\n",
      "[5, 10000] loss: 0.844\n",
      "[5, 12000] loss: 0.856\n",
      "Finished Training\n"
     ]
    }
   ],
   "source": [
    "for epoch in range(5):\n",
    "    running_loss = 0.0  # Reset the loss\n",
    "    \n",
    "    for i, data in enumerate(trainloader):  # Training set\n",
    "        inputs, labels = data\n",
    "        \n",
    "        # Reset gradient here, since they are additive\n",
    "        optimizer.zero_grad()\n",
    "        \n",
    "        # Run the net\n",
    "        outputs = net(inputs)\n",
    "        loss = criterion(outputs, labels)\n",
    "        loss.backward()\n",
    "        optimizer.step()\n",
    "        \n",
    "         # print statistics\n",
    "        running_loss += loss.item()\n",
    "        if i % 2000 == 1999:    # print every 2000 mini-batches\n",
    "            print('[%d, %5d] loss: %.3f' %\n",
    "                  (epoch + 1, i + 1, running_loss / 2000))\n",
    "            running_loss = 0.0\n",
    "\n",
    "print('Finished Training')\n",
    "        "
   ]
  },
  {
   "cell_type": "code",
   "execution_count": 96,
   "metadata": {},
   "outputs": [
    {
     "data": {
      "image/png": "[encoded data removed]",
      "text/plain": [
       "<Figure size 432x288 with 1 Axes>"
      ]
     },
     "metadata": {
      "needs_background": "light"
     },
     "output_type": "display_data"
    },
    {
     "name": "stdout",
     "output_type": "stream",
     "text": [
      "GroundTruth:    cat  ship  ship plane\n"
     ]
    }
   ],
   "source": [
    "dataiter = iter(testloader)\n",
    "images, labels = dataiter.next()\n",
    "\n",
    "# print images\n",
    "imshow(torchvision.utils.make_grid(images))\n",
    "print('GroundTruth: ', ' '.join('%5s' % classes[labels[j]] for j in range(4)))"
   ]
  },
  {
   "cell_type": "code",
   "execution_count": 97,
   "metadata": {},
   "outputs": [],
   "source": [
    "outputs = net(images)"
   ]
  },
  {
   "cell_type": "code",
   "execution_count": 98,
   "metadata": {},
   "outputs": [
    {
     "name": "stdout",
     "output_type": "stream",
     "text": [
      "Predicted:    cat   car  ship plane\n"
     ]
    }
   ],
   "source": [
    "_, predicted = torch.max(outputs, 1)\n",
    "\n",
    "print('Predicted: ', ' '.join('%5s' % classes[predicted[j]]\n",
    "                              for j in range(4)))"
   ]
  },
  {
   "cell_type": "code",
   "execution_count": 99,
   "metadata": {},
   "outputs": [
    {
     "name": "stdout",
     "output_type": "stream",
     "text": [
      "Accuracy of the network on the 10000 test images: 65 %\n"
     ]
    }
   ],
   "source": [
    "correct = 0\n",
    "total = 0\n",
    "with torch.no_grad():\n",
    "    for data in testloader:\n",
    "        images, labels = data\n",
    "        outputs = net(images)\n",
    "        _, predicted = torch.max(outputs.data, 1)\n",
    "        total += labels.size(0)\n",
    "        correct += (predicted == labels).sum().item()\n",
    "\n",
    "print('Accuracy of the network on the 10000 test images: %d %%' % (\n",
    "    100 * correct / total))"
   ]
  },
  {
   "cell_type": "code",
   "execution_count": 100,
   "metadata": {},
   "outputs": [
    {
     "name": "stdout",
     "output_type": "stream",
     "text": [
      "Accuracy of plane : 68 %\n",
      "Accuracy of   car : 82 %\n",
      "Accuracy of  bird : 56 %\n",
      "Accuracy of   cat : 45 %\n",
      "Accuracy of  deer : 65 %\n",
      "Accuracy of   dog : 48 %\n",
      "Accuracy of  frog : 76 %\n",
      "Accuracy of horse : 69 %\n",
      "Accuracy of  ship : 84 %\n",
      "Accuracy of truck : 58 %\n"
     ]
    }
   ],
   "source": [
    "class_correct = list(0. for i in range(10))\n",
    "class_total = list(0. for i in range(10))\n",
    "with torch.no_grad():\n",
    "    for data in testloader:\n",
    "        images, labels = data\n",
    "        outputs = net(images)\n",
    "        _, predicted = torch.max(outputs, 1)\n",
    "        c = (predicted == labels).squeeze()\n",
    "        for i in range(4):\n",
    "            label = labels[i]\n",
    "            class_correct[label] += c[i].item()\n",
    "            class_total[label] += 1\n",
    "\n",
    "\n",
    "for i in range(10):\n",
    "    print('Accuracy of %5s : %2d %%' % (\n",
    "        classes[i], 100 * class_correct[i] / class_total[i]))"
   ]
  },
  {
   "cell_type": "code",
   "execution_count": null,
   "metadata": {},
   "outputs": [],
   "source": []
  }
 ],
 "metadata": {
  "kernelspec": {
   "display_name": "Python 3",
   "language": "python",
   "name": "python3"
  },
  "language_info": {
   "codemirror_mode": {
    "name": "ipython",
    "version": 3
   },
   "file_extension": ".py",
   "mimetype": "text/x-python",
   "name": "python",
   "nbconvert_exporter": "python",
   "pygments_lexer": "ipython3",
   "version": "3.6.8"
  }
 },
 "nbformat": 4,
 "nbformat_minor": 4
}
