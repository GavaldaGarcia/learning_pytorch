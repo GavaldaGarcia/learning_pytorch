{
 "cells": [
  {
   "cell_type": "code",
   "execution_count": 2,
   "metadata": {},
   "outputs": [],
   "source": [
    "import pandas as pd\n",
    "import os\n",
    "import torch\n",
    "import torch.nn as nn\n",
    "import torch.nn.functional as F"
   ]
  },
  {
   "cell_type": "code",
   "execution_count": 3,
   "metadata": {},
   "outputs": [
    {
     "data": {
      "text/plain": [
       "['bmr15315_1.out', 'bmr17160_1.out', 'bmr7339_1.out']"
      ]
     },
     "execution_count": 3,
     "metadata": {},
     "output_type": "execute_result"
    }
   ],
   "source": [
    "os.listdir('data')"
   ]
  },
  {
   "cell_type": "code",
   "execution_count": 4,
   "metadata": {},
   "outputs": [],
   "source": [
    "in_df = pd.read_csv('data/bmr15315_1.out', sep = ' ', names=['Residue', 'ShiftCript index'])"
   ]
  },
  {
   "cell_type": "code",
   "execution_count": 5,
   "metadata": {},
   "outputs": [],
   "source": [
    "index_tensor = torch.tensor(in_df['ShiftCript index'])"
   ]
  },
  {
   "cell_type": "code",
   "execution_count": 6,
   "metadata": {},
   "outputs": [],
   "source": [
    "windows = index_tensor.unfold(0, 6, 1)\n",
    "# print(windows)"
   ]
  },
  {
   "cell_type": "code",
   "execution_count": 130,
   "metadata": {},
   "outputs": [
    {
     "name": "stdout",
     "output_type": "stream",
     "text": [
      "Net(\n",
      "  (linear1): Linear(in_features=6, out_features=10, bias=True)\n",
      "  (linear2): Linear(in_features=10, out_features=1, bias=True)\n",
      ")\n"
     ]
    }
   ],
   "source": [
    "class Net(nn.Module):\n",
    "    def __init__(self):\n",
    "        super().__init__()\n",
    "#         self.conv1 = nn.Conv1d(6, 36, 2)\n",
    "        self.linear1 = nn.Linear(6, 10)\n",
    "        self.linear2 = nn.Linear(10, 1)\n",
    "        \n",
    "    def forward(self, x):\n",
    "#         x = F.max_pool1d(F.relu(self.conv1(x)),2)\n",
    "        x = F.relu(self.linear1(x))\n",
    "        print(x)\n",
    "        x = self.linear2(x)\n",
    "        return x\n",
    "    \n",
    "net = Net()\n",
    "print(net)"
   ]
  },
  {
   "cell_type": "code",
   "execution_count": 32,
   "metadata": {},
   "outputs": [
    {
     "name": "stdout",
     "output_type": "stream",
     "text": [
      "Net(\n",
      "  (conv1): Conv1d(1, 12, kernel_size=(3,), stride=(1,))\n",
      "  (linear1): Linear(in_features=12, out_features=6, bias=True)\n",
      "  (linear2): Linear(in_features=6, out_features=1, bias=True)\n",
      ")\n"
     ]
    }
   ],
   "source": [
    "# For some reason 1D convolution and I don't like each other\n",
    "\n",
    "class Net(nn.Module):\n",
    "    def __init__(self):\n",
    "        super().__init__()\n",
    "        self.conv1 = nn.Conv1d(1, 12, 3)  # (in_channels, out_channels, kernel_size)  # DON'T TOUCH FOR NOW\n",
    "        self.linear1 = nn.Linear(12, 6)\n",
    "        self.linear2 = nn.Linear(6, 1)\n",
    "        \n",
    "    def forward(self, x):\n",
    "        x = F.max_pool1d(F.relu(self.conv1(x)),4)\n",
    "        print(x)\n",
    "#         print(x.size())\n",
    "        x = x.view(-1, 12)  # Flatten!!! Eureka!!!\n",
    "        print(x)\n",
    "        x = F.relu(self.linear1(x))\n",
    "        x = self.linear2(x)\n",
    "        return x\n",
    "    \n",
    "net = Net()\n",
    "print(net)"
   ]
  },
  {
   "cell_type": "code",
   "execution_count": 89,
   "metadata": {},
   "outputs": [
    {
     "name": "stdout",
     "output_type": "stream",
     "text": [
      "Net(\n",
      "  (conv1): Conv1d(1, 42, kernel_size=(3,), stride=(1,))\n",
      "  (linear1): Linear(in_features=42, out_features=6, bias=True)\n",
      "  (linear2): Linear(in_features=6, out_features=1, bias=True)\n",
      "  (linear_alpha): Linear(in_features=42, out_features=8, bias=True)\n",
      "  (linear_beta): Linear(in_features=8, out_features=4, bias=True)\n",
      "  (linear_gamma): Linear(in_features=4, out_features=1, bias=True)\n",
      ")\n"
     ]
    }
   ],
   "source": [
    "# Now with 2 targets, and tuneable hyperparameters\n",
    "number_of_kernels_conv = 42\n",
    "# These 2 not fully understood. These values work. \n",
    "kernel_size = 3\n",
    "pooling_window_size = 3\n",
    "\n",
    "class Net(nn.Module):\n",
    "    def __init__(self):\n",
    "        super().__init__()\n",
    "        self.conv1 = nn.Conv1d(1, int(number_of_kernels_conv), int(kernel_size))  # (in_channels, out_channels, kernel_size)  # DON'T TOUCH FOR NOW\n",
    "        self.linear1 = nn.Linear(int(number_of_kernels_conv * kernel_size / pooling_window_size) , 6)\n",
    "        self.linear2 = nn.Linear(6, 1)\n",
    "        self.linear_alpha = nn.Linear(int(number_of_kernels_conv * kernel_size / pooling_window_size),8)\n",
    "        self.linear_beta = nn.Linear(8,4)\n",
    "        self.linear_gamma = nn.Linear(4,1)\n",
    "        \n",
    "    def forward(self, x):\n",
    "        x = F.max_pool1d(F.relu(self.conv1(x)), int(pooling_window_size))\n",
    "#         print(x)\n",
    "        print(x.size())\n",
    "        x = x.view(-1, int(number_of_kernels_conv * kernel_size / pooling_window_size))  # Flatten!!! Eureka!!!\n",
    "        print(x)\n",
    "        y = F.relu(self.linear_alpha(x))\n",
    "        y = F.relu(self.linear_beta(y))\n",
    "        y = self.linear_gamma(y)\n",
    "        x = F.relu(self.linear1(x))\n",
    "        x = self.linear2(x)\n",
    "        return x, y\n",
    "    \n",
    "net = Net()\n",
    "print(net)"
   ]
  },
  {
   "cell_type": "code",
   "execution_count": 109,
   "metadata": {},
   "outputs": [],
   "source": [
    "# print(list(net.named_parameters()))"
   ]
  },
  {
   "cell_type": "code",
   "execution_count": 18,
   "metadata": {},
   "outputs": [
    {
     "name": "stdout",
     "output_type": "stream",
     "text": [
      "tensor([-10.0000,   0.6654,   0.5337,   0.6093,   0.9774,   0.6371])\n"
     ]
    }
   ],
   "source": [
    "# a = windows[0].reshape(-1,1).unsqueeze(0)\n",
    "a = windows[0]\n",
    "print(a)"
   ]
  },
  {
   "cell_type": "code",
   "execution_count": 44,
   "metadata": {},
   "outputs": [
    {
     "name": "stdout",
     "output_type": "stream",
     "text": [
      "tensor([[[ 1.2301, -0.0707,  0.6961,  0.0746,  1.4741, -1.2506]]])\n"
     ]
    }
   ],
   "source": [
    "a = torch.randn(1,1,6)  # (Batch size, channels, size of input)\n",
    "print(a)"
   ]
  },
  {
   "cell_type": "code",
   "execution_count": 9,
   "metadata": {},
   "outputs": [],
   "source": [
    "# windows"
   ]
  },
  {
   "cell_type": "code",
   "execution_count": 56,
   "metadata": {},
   "outputs": [
    {
     "name": "stdout",
     "output_type": "stream",
     "text": [
      "12\n",
      "torch.Size([10, 1, 3])\n"
     ]
    }
   ],
   "source": [
    "params = list(net.parameters())\n",
    "print(len(params))\n",
    "print(params[0].size())  # conv1's .weight\n",
    "# print(params)"
   ]
  },
  {
   "cell_type": "code",
   "execution_count": 90,
   "metadata": {},
   "outputs": [
    {
     "name": "stdout",
     "output_type": "stream",
     "text": [
      "torch.Size([1, 42, 1])\n",
      "tensor([[0.2259, 0.0970, 0.5192, 0.3621, 0.0000, 0.5367, 0.9599, 0.4111, 1.1249,\n",
      "         0.7193, 0.6375, 0.7460, 0.0000, 0.0000, 0.1372, 0.0000, 1.0639, 0.3342,\n",
      "         0.1586, 0.2716, 0.0000, 0.0000, 0.2195, 0.7708, 0.3733, 0.8270, 0.5340,\n",
      "         0.8092, 0.3613, 0.4693, 0.3160, 0.5514, 0.0000, 0.0052, 0.9102, 1.1425,\n",
      "         0.9064, 0.3092, 0.0000, 0.1073, 0.0000, 0.5520]],\n",
      "       grad_fn=<ViewBackward>)\n"
     ]
    },
    {
     "data": {
      "text/plain": [
       "(tensor([[0.4058]], grad_fn=<AddmmBackward>),\n",
       " tensor([[0.5610]], grad_fn=<AddmmBackward>))"
      ]
     },
     "execution_count": 90,
     "metadata": {},
     "output_type": "execute_result"
    }
   ],
   "source": [
    "net(a)"
   ]
  },
  {
   "cell_type": "code",
   "execution_count": null,
   "metadata": {},
   "outputs": [],
   "source": []
  },
  {
   "cell_type": "code",
   "execution_count": null,
   "metadata": {},
   "outputs": [],
   "source": []
  }
 ],
 "metadata": {
  "kernelspec": {
   "display_name": "Python 3",
   "language": "python",
   "name": "python3"
  },
  "language_info": {
   "codemirror_mode": {
    "name": "ipython",
    "version": 3
   },
   "file_extension": ".py",
   "mimetype": "text/x-python",
   "name": "python",
   "nbconvert_exporter": "python",
   "pygments_lexer": "ipython3",
   "version": "3.6.8"
  }
 },
 "nbformat": 4,
 "nbformat_minor": 4
}
