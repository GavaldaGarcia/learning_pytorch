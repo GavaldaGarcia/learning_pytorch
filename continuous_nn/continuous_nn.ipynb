{
 "cells": [
  {
   "cell_type": "code",
   "execution_count": 1,
   "metadata": {},
   "outputs": [],
   "source": [
    "import torch\n",
    "import numpy as np\n",
    "import torch.nn as nn\n",
    "import torch.nn.functional as F"
   ]
  },
  {
   "cell_type": "code",
   "execution_count": 2,
   "metadata": {},
   "outputs": [
    {
     "name": "stdout",
     "output_type": "stream",
     "text": [
      "<class 'torch.Tensor'>\n"
     ]
    }
   ],
   "source": [
    "xy = torch.randn(10000,1,2)\n",
    "z = 10*xy[:,:,0] + np.random.uniform(-0.1,0.1) + 2*xy[:,:,1] +np.random.uniform(-0.1,0.1)\n",
    "z= z.reshape(-1, 1)\n",
    "z = np.expand_dims(z, axis = 1)\n",
    "\n",
    "# train_data = torch.from_numpy(xy)\n",
    "train_label = torch.from_numpy(z)\n",
    "print(type(train_label))"
   ]
  },
  {
   "cell_type": "code",
   "execution_count": 3,
   "metadata": {},
   "outputs": [
    {
     "name": "stdout",
     "output_type": "stream",
     "text": [
      "Net(\n",
      "  (linear1): Linear(in_features=2, out_features=5, bias=True)\n",
      "  (linear2): Linear(in_features=5, out_features=3, bias=True)\n",
      "  (linear3): Linear(in_features=3, out_features=1, bias=True)\n",
      ")\n"
     ]
    }
   ],
   "source": [
    "class Net(nn.Module):\n",
    "    def __init__(self):\n",
    "        super().__init__()\n",
    "        self.linear1 = nn.Linear(2, 5)\n",
    "        self.linear2 = nn.Linear(5, 3)\n",
    "        self.linear3 = nn.Linear(3, 1)\n",
    "        \n",
    "    def forward(self, x):\n",
    "        x = F.relu(self.linear1(x))\n",
    "        x = F.relu(self.linear2(x))\n",
    "        x = self.linear3(x)\n",
    "        return(x)\n",
    "        \n",
    "net = Net()\n",
    "print(net)"
   ]
  },
  {
   "cell_type": "code",
   "execution_count": 16,
   "metadata": {},
   "outputs": [
    {
     "name": "stdout",
     "output_type": "stream",
     "text": [
      "Net(\n",
      "  (linear1): Linear(in_features=2, out_features=1, bias=True)\n",
      ")\n"
     ]
    }
   ],
   "source": [
    "class Net(nn.Module):\n",
    "    def __init__(self):\n",
    "        super().__init__()\n",
    "        self.linear1 = nn.Linear(2, 1)\n",
    "        \n",
    "    def forward(self, x):\n",
    "        x = self.linear1(x)\n",
    "        return(x)\n",
    "        \n",
    "net = Net()\n",
    "print(net)"
   ]
  },
  {
   "cell_type": "code",
   "execution_count": 17,
   "metadata": {},
   "outputs": [
    {
     "name": "stdout",
     "output_type": "stream",
     "text": [
      "[Parameter containing:\n",
      "tensor([[-0.1355,  0.5856]], requires_grad=True), Parameter containing:\n",
      "tensor([0.2312], requires_grad=True)]\n"
     ]
    }
   ],
   "source": [
    "params = list(net.parameters())\n",
    "print(params)"
   ]
  },
  {
   "cell_type": "code",
   "execution_count": 18,
   "metadata": {},
   "outputs": [
    {
     "name": "stdout",
     "output_type": "stream",
     "text": [
      "[('linear1.weight', Parameter containing:\n",
      "tensor([[-0.1355,  0.5856]], requires_grad=True)), ('linear1.bias', Parameter containing:\n",
      "tensor([0.2312], requires_grad=True))]\n"
     ]
    }
   ],
   "source": [
    "print(list(net.named_parameters()))"
   ]
  },
  {
   "cell_type": "code",
   "execution_count": 19,
   "metadata": {},
   "outputs": [],
   "source": [
    "inp = torch.rand(100, 1,2)\n",
    "# print(inp)\n",
    "# print(inp.size())"
   ]
  },
  {
   "cell_type": "code",
   "execution_count": 20,
   "metadata": {},
   "outputs": [],
   "source": [
    "out = net(inp)"
   ]
  },
  {
   "cell_type": "code",
   "execution_count": 21,
   "metadata": {},
   "outputs": [],
   "source": [
    "net.zero_grad()"
   ]
  },
  {
   "cell_type": "code",
   "execution_count": 22,
   "metadata": {},
   "outputs": [],
   "source": [
    "net.zero_grad()\n",
    "out.backward(inp)"
   ]
  },
  {
   "cell_type": "code",
   "execution_count": 23,
   "metadata": {},
   "outputs": [
    {
     "data": {
      "text/plain": [
       "-6.69869"
      ]
     },
     "execution_count": 23,
     "metadata": {},
     "output_type": "execute_result"
    }
   ],
   "source": [
    "z[0][0][0]"
   ]
  },
  {
   "cell_type": "code",
   "execution_count": 24,
   "metadata": {},
   "outputs": [],
   "source": [
    "criterion = nn.MSELoss()# Mean Squared Loss\n",
    "optimizer = torch.optim.SGD(net.parameters(), lr=0.001, momentum=0.9)"
   ]
  },
  {
   "cell_type": "code",
   "execution_count": 25,
   "metadata": {},
   "outputs": [
    {
     "name": "stdout",
     "output_type": "stream",
     "text": [
      "[1,  2000] loss: 1.707\n",
      "[1,  4000] loss: 0.000\n",
      "[1,  6000] loss: 0.000\n",
      "[1,  8000] loss: 0.000\n",
      "[1, 10000] loss: 0.000\n",
      "[2,  2000] loss: 0.000\n",
      "[2,  4000] loss: 0.000\n",
      "[2,  6000] loss: 0.000\n",
      "[2,  8000] loss: 0.000\n",
      "[2, 10000] loss: 0.000\n",
      "[3,  2000] loss: 0.000\n",
      "[3,  4000] loss: 0.000\n",
      "[3,  6000] loss: 0.000\n",
      "[3,  8000] loss: 0.000\n",
      "[3, 10000] loss: 0.000\n",
      "[4,  2000] loss: 0.000\n",
      "[4,  4000] loss: 0.000\n",
      "[4,  6000] loss: 0.000\n",
      "[4,  8000] loss: 0.000\n",
      "[4, 10000] loss: 0.000\n",
      "[5,  2000] loss: 0.000\n",
      "[5,  4000] loss: 0.000\n",
      "[5,  6000] loss: 0.000\n",
      "[5,  8000] loss: 0.000\n",
      "[5, 10000] loss: 0.000\n",
      "Finished Training\n"
     ]
    }
   ],
   "source": [
    "for epoch in range(5):\n",
    "    running_loss = 0.0  # Reset the loss\n",
    "    \n",
    "    for i, data in enumerate(xy):  # Training set\n",
    "        \n",
    "        # Reset gradient here, since they are additive\n",
    "        optimizer.zero_grad()\n",
    "        \n",
    "        # Run the net\n",
    "        outputs = net(data)\n",
    "        loss = criterion(outputs, torch.tensor(z[i]))\n",
    "        loss.backward()\n",
    "        optimizer.step()\n",
    "        \n",
    "         # print statistics\n",
    "        running_loss += loss.item()\n",
    "        if i % 2000 == 1999:    # print every 2000 mini-batches\n",
    "            print('[%d, %5d] loss: %.3f' %\n",
    "                  (epoch + 1, i + 1, running_loss / 2000))\n",
    "            running_loss = 0.0\n",
    "\n",
    "print('Finished Training')"
   ]
  },
  {
   "cell_type": "code",
   "execution_count": 26,
   "metadata": {},
   "outputs": [
    {
     "name": "stdout",
     "output_type": "stream",
     "text": [
      "[('linear1.weight', Parameter containing:\n",
      "tensor([[10.0000,  2.0000]], requires_grad=True)), ('linear1.bias', Parameter containing:\n",
      "tensor([-0.0284], requires_grad=True))]\n"
     ]
    }
   ],
   "source": [
    "print(list(net.named_parameters()))"
   ]
  },
  {
   "cell_type": "code",
   "execution_count": null,
   "metadata": {},
   "outputs": [],
   "source": []
  }
 ],
 "metadata": {
  "kernelspec": {
   "display_name": "Python 3",
   "language": "python",
   "name": "python3"
  },
  "language_info": {
   "codemirror_mode": {
    "name": "ipython",
    "version": 3
   },
   "file_extension": ".py",
   "mimetype": "text/x-python",
   "name": "python",
   "nbconvert_exporter": "python",
   "pygments_lexer": "ipython3",
   "version": "3.6.8"
  }
 },
 "nbformat": 4,
 "nbformat_minor": 4
}
